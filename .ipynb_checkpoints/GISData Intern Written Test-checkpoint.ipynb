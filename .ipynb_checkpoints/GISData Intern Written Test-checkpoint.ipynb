{
 "cells": [
  {
   "cell_type": "code",
   "execution_count": 1,
   "metadata": {},
   "outputs": [],
   "source": [
    "import pandas as pd\n",
    "import numpy as np\n"
   ]
  },
  {
   "cell_type": "code",
   "execution_count": 2,
   "metadata": {},
   "outputs": [
    {
     "data": {
      "text/plain": [
       "'1.0.3'"
      ]
     },
     "execution_count": 2,
     "metadata": {},
     "output_type": "execute_result"
    }
   ],
   "source": [
    "pd.__version__"
   ]
  },
  {
   "cell_type": "markdown",
   "metadata": {
    "colab_type": "text",
    "id": "dg_X1Xdt1x06"
   },
   "source": [
    "# GIS/Data Intern Written Test - Data Prep\n",
    "\n",
    "The following steps describe the data extraction and preparation procedures for the District Projected Population.\n",
    "\n",
    "This notebook is also available at https://github.com/devlp121/GISTest."
   ]
  },
  {
   "cell_type": "code",
   "execution_count": 3,
   "metadata": {},
   "outputs": [],
   "source": [
    "#Read the excel file\n",
    "df = pd.read_excel('Task Dataset/District_Projected_population_by_single_age_and_sex_(2015-2025)_UG.xlsx', index_col=0)"
   ]
  },
  {
   "cell_type": "code",
   "execution_count": 4,
   "metadata": {},
   "outputs": [
    {
     "data": {
      "text/html": [
       "<div>\n",
       "<style scoped>\n",
       "    .dataframe tbody tr th:only-of-type {\n",
       "        vertical-align: middle;\n",
       "    }\n",
       "\n",
       "    .dataframe tbody tr th {\n",
       "        vertical-align: top;\n",
       "    }\n",
       "\n",
       "    .dataframe thead th {\n",
       "        text-align: right;\n",
       "    }\n",
       "</style>\n",
       "<table border=\"1\" class=\"dataframe\">\n",
       "  <thead>\n",
       "    <tr style=\"text-align: right;\">\n",
       "      <th></th>\n",
       "      <th>2015</th>\n",
       "      <th>Unnamed: 2</th>\n",
       "      <th>2016</th>\n",
       "      <th>Unnamed: 4</th>\n",
       "      <th>2017</th>\n",
       "      <th>Unnamed: 6</th>\n",
       "      <th>2018</th>\n",
       "      <th>Unnamed: 8</th>\n",
       "      <th>2019</th>\n",
       "      <th>Unnamed: 10</th>\n",
       "      <th>...</th>\n",
       "      <th>2021</th>\n",
       "      <th>Unnamed: 14</th>\n",
       "      <th>2022</th>\n",
       "      <th>Unnamed: 16</th>\n",
       "      <th>2023</th>\n",
       "      <th>Unnamed: 18</th>\n",
       "      <th>2024</th>\n",
       "      <th>Unnamed: 20</th>\n",
       "      <th>2025</th>\n",
       "      <th>Unnamed: 22</th>\n",
       "    </tr>\n",
       "  </thead>\n",
       "  <tbody>\n",
       "    <tr>\n",
       "      <th>KALANGALA</th>\n",
       "      <td>Male</td>\n",
       "      <td>Female</td>\n",
       "      <td>Male</td>\n",
       "      <td>Female</td>\n",
       "      <td>Male</td>\n",
       "      <td>Female</td>\n",
       "      <td>Male</td>\n",
       "      <td>Female</td>\n",
       "      <td>Male</td>\n",
       "      <td>Female</td>\n",
       "      <td>...</td>\n",
       "      <td>Male</td>\n",
       "      <td>Female</td>\n",
       "      <td>Male</td>\n",
       "      <td>Female</td>\n",
       "      <td>Male</td>\n",
       "      <td>Female</td>\n",
       "      <td>Male</td>\n",
       "      <td>Female</td>\n",
       "      <td>Male</td>\n",
       "      <td>Female</td>\n",
       "    </tr>\n",
       "    <tr>\n",
       "      <th>Total</th>\n",
       "      <td>32200</td>\n",
       "      <td>23700</td>\n",
       "      <td>33400</td>\n",
       "      <td>24700</td>\n",
       "      <td>34600</td>\n",
       "      <td>25700</td>\n",
       "      <td>35800</td>\n",
       "      <td>26700</td>\n",
       "      <td>37000</td>\n",
       "      <td>27800</td>\n",
       "      <td>...</td>\n",
       "      <td>39500</td>\n",
       "      <td>30000</td>\n",
       "      <td>40800</td>\n",
       "      <td>31200</td>\n",
       "      <td>42100</td>\n",
       "      <td>32400</td>\n",
       "      <td>43400</td>\n",
       "      <td>33600</td>\n",
       "      <td>44700</td>\n",
       "      <td>34800</td>\n",
       "    </tr>\n",
       "    <tr>\n",
       "      <th>0 year</th>\n",
       "      <td>1150</td>\n",
       "      <td>940</td>\n",
       "      <td>1190</td>\n",
       "      <td>980</td>\n",
       "      <td>1230</td>\n",
       "      <td>1020</td>\n",
       "      <td>1280</td>\n",
       "      <td>1060</td>\n",
       "      <td>1320</td>\n",
       "      <td>1100</td>\n",
       "      <td>...</td>\n",
       "      <td>1410</td>\n",
       "      <td>1190</td>\n",
       "      <td>1450</td>\n",
       "      <td>1240</td>\n",
       "      <td>1500</td>\n",
       "      <td>1290</td>\n",
       "      <td>1550</td>\n",
       "      <td>1330</td>\n",
       "      <td>1590</td>\n",
       "      <td>1380</td>\n",
       "    </tr>\n",
       "    <tr>\n",
       "      <th>1 year</th>\n",
       "      <td>1030</td>\n",
       "      <td>920</td>\n",
       "      <td>1070</td>\n",
       "      <td>960</td>\n",
       "      <td>1100</td>\n",
       "      <td>1000</td>\n",
       "      <td>1140</td>\n",
       "      <td>1040</td>\n",
       "      <td>1180</td>\n",
       "      <td>1080</td>\n",
       "      <td>...</td>\n",
       "      <td>1260</td>\n",
       "      <td>1170</td>\n",
       "      <td>1300</td>\n",
       "      <td>1220</td>\n",
       "      <td>1340</td>\n",
       "      <td>1260</td>\n",
       "      <td>1380</td>\n",
       "      <td>1310</td>\n",
       "      <td>1430</td>\n",
       "      <td>1360</td>\n",
       "    </tr>\n",
       "    <tr>\n",
       "      <th>2 years</th>\n",
       "      <td>940</td>\n",
       "      <td>920</td>\n",
       "      <td>980</td>\n",
       "      <td>960</td>\n",
       "      <td>1010</td>\n",
       "      <td>1000</td>\n",
       "      <td>1050</td>\n",
       "      <td>1030</td>\n",
       "      <td>1080</td>\n",
       "      <td>1080</td>\n",
       "      <td>...</td>\n",
       "      <td>1160</td>\n",
       "      <td>1160</td>\n",
       "      <td>1190</td>\n",
       "      <td>1210</td>\n",
       "      <td>1230</td>\n",
       "      <td>1260</td>\n",
       "      <td>1270</td>\n",
       "      <td>1300</td>\n",
       "      <td>1310</td>\n",
       "      <td>1350</td>\n",
       "    </tr>\n",
       "  </tbody>\n",
       "</table>\n",
       "<p>5 rows × 22 columns</p>\n",
       "</div>"
      ],
      "text/plain": [
       "            2015 Unnamed: 2   2016 Unnamed: 4   2017 Unnamed: 6   2018  \\\n",
       "KALANGALA   Male     Female   Male     Female   Male     Female   Male   \n",
       "Total      32200      23700  33400      24700  34600      25700  35800   \n",
       "0 year      1150        940   1190        980   1230       1020   1280   \n",
       "1 year      1030        920   1070        960   1100       1000   1140   \n",
       "2 years      940        920    980        960   1010       1000   1050   \n",
       "\n",
       "          Unnamed: 8   2019 Unnamed: 10  ...   2021 Unnamed: 14   2022  \\\n",
       "KALANGALA     Female   Male      Female  ...   Male      Female   Male   \n",
       "Total          26700  37000       27800  ...  39500       30000  40800   \n",
       "0 year          1060   1320        1100  ...   1410        1190   1450   \n",
       "1 year          1040   1180        1080  ...   1260        1170   1300   \n",
       "2 years         1030   1080        1080  ...   1160        1160   1190   \n",
       "\n",
       "          Unnamed: 16   2023 Unnamed: 18   2024 Unnamed: 20   2025 Unnamed: 22  \n",
       "KALANGALA      Female   Male      Female   Male      Female   Male      Female  \n",
       "Total           31200  42100       32400  43400       33600  44700       34800  \n",
       "0 year           1240   1500        1290   1550        1330   1590        1380  \n",
       "1 year           1220   1340        1260   1380        1310   1430        1360  \n",
       "2 years          1210   1230        1260   1270        1300   1310        1350  \n",
       "\n",
       "[5 rows x 22 columns]"
      ]
     },
     "execution_count": 4,
     "metadata": {},
     "output_type": "execute_result"
    }
   ],
   "source": [
    "df.head()"
   ]
  },
  {
   "cell_type": "code",
   "execution_count": 5,
   "metadata": {},
   "outputs": [
    {
     "name": "stdout",
     "output_type": "stream",
     "text": [
      "<class 'pandas.core.frame.DataFrame'>\n",
      "Index: 11996 entries, KALANGALA to 80+\n",
      "Data columns (total 22 columns):\n",
      " #   Column       Non-Null Count  Dtype \n",
      "---  ------       --------------  ----- \n",
      " 0   2015         11072 non-null  object\n",
      " 1   Unnamed: 2   11072 non-null  object\n",
      " 2   2016         11072 non-null  object\n",
      " 3   Unnamed: 4   11072 non-null  object\n",
      " 4   2017         11072 non-null  object\n",
      " 5   Unnamed: 6   11072 non-null  object\n",
      " 6   2018         11072 non-null  object\n",
      " 7   Unnamed: 8   11072 non-null  object\n",
      " 8   2019         11072 non-null  object\n",
      " 9   Unnamed: 10  11072 non-null  object\n",
      " 10  2020         11072 non-null  object\n",
      " 11  Unnamed: 12  11072 non-null  object\n",
      " 12  2021         11072 non-null  object\n",
      " 13  Unnamed: 14  11072 non-null  object\n",
      " 14  2022         11072 non-null  object\n",
      " 15  Unnamed: 16  11072 non-null  object\n",
      " 16  2023         11072 non-null  object\n",
      " 17  Unnamed: 18  11072 non-null  object\n",
      " 18  2024         11072 non-null  object\n",
      " 19  Unnamed: 20  11072 non-null  object\n",
      " 20  2025         11072 non-null  object\n",
      " 21  Unnamed: 22  11072 non-null  object\n",
      "dtypes: object(22)\n",
      "memory usage: 2.1+ MB\n"
     ]
    }
   ],
   "source": [
    "df.info()"
   ]
  },
  {
   "cell_type": "code",
   "execution_count": 6,
   "metadata": {},
   "outputs": [],
   "source": [
    "###Select from MultiIndex by Level"
   ]
  },
  {
   "cell_type": "code",
   "execution_count": 7,
   "metadata": {},
   "outputs": [],
   "source": [
    "#Get unique index values and drop the labels\n",
    "i_unique = df.index.unique()"
   ]
  },
  {
   "cell_type": "code",
   "execution_count": 8,
   "metadata": {},
   "outputs": [],
   "source": [
    "labels = [ 'Total',      '0 year',      '1 year',\n",
    "           '2 years',     '3 years',     '4 years',     '5 years',\n",
    "           '6 years',     '7 years',     '8 years',     '9 years',\n",
    "          '10 years',    '11 years',    '12 years',    '13 years',\n",
    "          '14 years',    '15 years',    '16 years',    '17 years',\n",
    "          '18 years',    '19 years',     '20 year','20 years','21 years',     '21 year',\n",
    "          '22 years',    '23 years',    '24 years',    '25 years',\n",
    "          '26 years',    '27 years',    '28 years',    '29 years',\n",
    "           '30 year','30 years',     '31 year','31 years',    '32 years', '32years',   '33 years',\n",
    "          '34 years',    '35 years',    '36 years',    '37 years',\n",
    "          '38 years',    '39 years',     '40 year', '40 years','40years',    '41 year','41 years',\n",
    "          '42 years',    '43 years',    '44 years',    '45 years',\n",
    "          '46 years',    '47 years',    '48 years',    '49 years',\n",
    "           '50 year','50 years',     '51 year','51 years',    '52 years',    '53 years',\n",
    "          '54 years',    '55 years',    '56 years',    '57 years',\n",
    "          '58 years',    '59 years',     '60 year', '60 years',    '61 year','61 years',\n",
    "          '62 years',    '63 years',    '64 years',    '65 years',\n",
    "          '66 years',    '67 years',    '68 years',    '69 years',\n",
    "           '70 year','70 years',     '71 year','71 years',    '72 years',    '73 years',\n",
    "          '74 years',    '75 years',    '76 years',    '77 years',\n",
    "          '78 years',    '79 years',    '80+years', '80+']\n",
    "districts = i_unique.drop(labels)"
   ]
  },
  {
   "cell_type": "code",
   "execution_count": 9,
   "metadata": {},
   "outputs": [
    {
     "data": {
      "text/plain": [
       "(135,)"
      ]
     },
     "execution_count": 9,
     "metadata": {},
     "output_type": "execute_result"
    }
   ],
   "source": [
    "#Remove None values\n",
    "districts = districts[~districts.isnull()]\n",
    "districts.shape"
   ]
  },
  {
   "cell_type": "code",
   "execution_count": 10,
   "metadata": {},
   "outputs": [],
   "source": [
    "#Slice by index from the district to the last label for the district data, 80+ years.\n",
    "#Add District column for each row iteration\n",
    "#Index Slicing\n",
    "idx = pd.IndexSlice"
   ]
  },
  {
   "cell_type": "code",
   "execution_count": 11,
   "metadata": {},
   "outputs": [],
   "source": [
    "for distr in districts:\n",
    "    temp = df.query('index == @distr')\n",
    "    "
   ]
  },
  {
   "cell_type": "code",
   "execution_count": 12,
   "metadata": {},
   "outputs": [
    {
     "ename": "TypeError",
     "evalue": "'2015             Male\nUnnamed: 2     Female\n2016             Male\nUnnamed: 4     Female\n2017             Male\nUnnamed: 6     Female\n2018             Male\nUnnamed: 8     Female\n2019             Male\nUnnamed: 10    Female\n2020             Male\nUnnamed: 12    Female\n2021             Male\nUnnamed: 14    Female\n2022             Male\nUnnamed: 16    Female\n2023             Male\nUnnamed: 18    Female\n2024             Male\nUnnamed: 20    Female\n2025             Male\nUnnamed: 22    Female\nName: KALANGALA, dtype: object' is an invalid key",
     "output_type": "error",
     "traceback": [
      "\u001b[0;31m---------------------------------------------------------------------------\u001b[0m",
      "\u001b[0;31mTypeError\u001b[0m                                 Traceback (most recent call last)",
      "\u001b[0;32m<ipython-input-12-b72198921208>\u001b[0m in \u001b[0;36m<module>\u001b[0;34m\u001b[0m\n\u001b[1;32m      1\u001b[0m \u001b[0;32mfor\u001b[0m \u001b[0mindex\u001b[0m\u001b[0;34m,\u001b[0m \u001b[0mrow\u001b[0m \u001b[0;32min\u001b[0m \u001b[0mdf\u001b[0m\u001b[0;34m.\u001b[0m\u001b[0miterrows\u001b[0m\u001b[0;34m(\u001b[0m\u001b[0;34m)\u001b[0m\u001b[0;34m:\u001b[0m\u001b[0;34m\u001b[0m\u001b[0;34m\u001b[0m\u001b[0m\n\u001b[1;32m      2\u001b[0m     \u001b[0;32mfor\u001b[0m \u001b[0mdistr\u001b[0m \u001b[0;32min\u001b[0m \u001b[0mdistricts\u001b[0m\u001b[0;34m:\u001b[0m\u001b[0;34m\u001b[0m\u001b[0;34m\u001b[0m\u001b[0m\n\u001b[0;32m----> 3\u001b[0;31m         \u001b[0mdf\u001b[0m\u001b[0;34m.\u001b[0m\u001b[0mxs\u001b[0m\u001b[0;34m(\u001b[0m\u001b[0mrow\u001b[0m\u001b[0;34m)\u001b[0m\u001b[0;34m[\u001b[0m\u001b[0;34m'District'\u001b[0m\u001b[0;34m]\u001b[0m \u001b[0;34m==\u001b[0m \u001b[0mdistr\u001b[0m\u001b[0;34m\u001b[0m\u001b[0;34m\u001b[0m\u001b[0m\n\u001b[0m",
      "\u001b[0;32m~/miniconda3/lib/python3.7/site-packages/pandas/core/generic.py\u001b[0m in \u001b[0;36mxs\u001b[0;34m(self, key, axis, level, drop_level)\u001b[0m\n\u001b[1;32m   3535\u001b[0m             \u001b[0mloc\u001b[0m\u001b[0;34m,\u001b[0m \u001b[0mnew_index\u001b[0m \u001b[0;34m=\u001b[0m \u001b[0mself\u001b[0m\u001b[0;34m.\u001b[0m\u001b[0mindex\u001b[0m\u001b[0;34m.\u001b[0m\u001b[0mget_loc_level\u001b[0m\u001b[0;34m(\u001b[0m\u001b[0mkey\u001b[0m\u001b[0;34m,\u001b[0m \u001b[0mdrop_level\u001b[0m\u001b[0;34m=\u001b[0m\u001b[0mdrop_level\u001b[0m\u001b[0;34m)\u001b[0m\u001b[0;34m\u001b[0m\u001b[0;34m\u001b[0m\u001b[0m\n\u001b[1;32m   3536\u001b[0m         \u001b[0;32melse\u001b[0m\u001b[0;34m:\u001b[0m\u001b[0;34m\u001b[0m\u001b[0;34m\u001b[0m\u001b[0m\n\u001b[0;32m-> 3537\u001b[0;31m             \u001b[0mloc\u001b[0m \u001b[0;34m=\u001b[0m \u001b[0mself\u001b[0m\u001b[0;34m.\u001b[0m\u001b[0mindex\u001b[0m\u001b[0;34m.\u001b[0m\u001b[0mget_loc\u001b[0m\u001b[0;34m(\u001b[0m\u001b[0mkey\u001b[0m\u001b[0;34m)\u001b[0m\u001b[0;34m\u001b[0m\u001b[0;34m\u001b[0m\u001b[0m\n\u001b[0m\u001b[1;32m   3538\u001b[0m \u001b[0;34m\u001b[0m\u001b[0m\n\u001b[1;32m   3539\u001b[0m             \u001b[0;32mif\u001b[0m \u001b[0misinstance\u001b[0m\u001b[0;34m(\u001b[0m\u001b[0mloc\u001b[0m\u001b[0;34m,\u001b[0m \u001b[0mnp\u001b[0m\u001b[0;34m.\u001b[0m\u001b[0mndarray\u001b[0m\u001b[0;34m)\u001b[0m\u001b[0;34m:\u001b[0m\u001b[0;34m\u001b[0m\u001b[0;34m\u001b[0m\u001b[0m\n",
      "\u001b[0;32m~/miniconda3/lib/python3.7/site-packages/pandas/core/indexes/base.py\u001b[0m in \u001b[0;36mget_loc\u001b[0;34m(self, key, method, tolerance)\u001b[0m\n\u001b[1;32m   2644\u001b[0m                 )\n\u001b[1;32m   2645\u001b[0m             \u001b[0;32mtry\u001b[0m\u001b[0;34m:\u001b[0m\u001b[0;34m\u001b[0m\u001b[0;34m\u001b[0m\u001b[0m\n\u001b[0;32m-> 2646\u001b[0;31m                 \u001b[0;32mreturn\u001b[0m \u001b[0mself\u001b[0m\u001b[0;34m.\u001b[0m\u001b[0m_engine\u001b[0m\u001b[0;34m.\u001b[0m\u001b[0mget_loc\u001b[0m\u001b[0;34m(\u001b[0m\u001b[0mkey\u001b[0m\u001b[0;34m)\u001b[0m\u001b[0;34m\u001b[0m\u001b[0;34m\u001b[0m\u001b[0m\n\u001b[0m\u001b[1;32m   2647\u001b[0m             \u001b[0;32mexcept\u001b[0m \u001b[0mKeyError\u001b[0m\u001b[0;34m:\u001b[0m\u001b[0;34m\u001b[0m\u001b[0;34m\u001b[0m\u001b[0m\n\u001b[1;32m   2648\u001b[0m                 \u001b[0;32mreturn\u001b[0m \u001b[0mself\u001b[0m\u001b[0;34m.\u001b[0m\u001b[0m_engine\u001b[0m\u001b[0;34m.\u001b[0m\u001b[0mget_loc\u001b[0m\u001b[0;34m(\u001b[0m\u001b[0mself\u001b[0m\u001b[0;34m.\u001b[0m\u001b[0m_maybe_cast_indexer\u001b[0m\u001b[0;34m(\u001b[0m\u001b[0mkey\u001b[0m\u001b[0;34m)\u001b[0m\u001b[0;34m)\u001b[0m\u001b[0;34m\u001b[0m\u001b[0;34m\u001b[0m\u001b[0m\n",
      "\u001b[0;32mpandas/_libs/index.pyx\u001b[0m in \u001b[0;36mpandas._libs.index.IndexEngine.get_loc\u001b[0;34m()\u001b[0m\n",
      "\u001b[0;32mpandas/_libs/index.pyx\u001b[0m in \u001b[0;36mpandas._libs.index.IndexEngine.get_loc\u001b[0;34m()\u001b[0m\n",
      "\u001b[0;31mTypeError\u001b[0m: '2015             Male\nUnnamed: 2     Female\n2016             Male\nUnnamed: 4     Female\n2017             Male\nUnnamed: 6     Female\n2018             Male\nUnnamed: 8     Female\n2019             Male\nUnnamed: 10    Female\n2020             Male\nUnnamed: 12    Female\n2021             Male\nUnnamed: 14    Female\n2022             Male\nUnnamed: 16    Female\n2023             Male\nUnnamed: 18    Female\n2024             Male\nUnnamed: 20    Female\n2025             Male\nUnnamed: 22    Female\nName: KALANGALA, dtype: object' is an invalid key"
     ]
    }
   ],
   "source": [
    "for index, row in df.iterrows():\n",
    "    for distr in districts:\n",
    "        df.xs(row)['District'] == distr\n"
   ]
  },
  {
   "cell_type": "code",
   "execution_count": 13,
   "metadata": {},
   "outputs": [
    {
     "ename": "TypeError",
     "evalue": "'Index' object is not callable",
     "output_type": "error",
     "traceback": [
      "\u001b[0;31m---------------------------------------------------------------------------\u001b[0m",
      "\u001b[0;31mTypeError\u001b[0m                                 Traceback (most recent call last)",
      "\u001b[0;32m<ipython-input-13-d20900adbf7c>\u001b[0m in \u001b[0;36m<module>\u001b[0;34m\u001b[0m\n\u001b[1;32m      1\u001b[0m \u001b[0;32mfor\u001b[0m \u001b[0mdistr\u001b[0m \u001b[0;32min\u001b[0m \u001b[0mdistricts\u001b[0m\u001b[0;34m:\u001b[0m\u001b[0;34m\u001b[0m\u001b[0;34m\u001b[0m\u001b[0m\n\u001b[0;32m----> 2\u001b[0;31m     \u001b[0;32mfor\u001b[0m \u001b[0mrow\u001b[0m \u001b[0;32min\u001b[0m \u001b[0mdf\u001b[0m\u001b[0;34m.\u001b[0m\u001b[0mindex\u001b[0m\u001b[0;34m(\u001b[0m\u001b[0mdistr\u001b[0m\u001b[0;34m)\u001b[0m \u001b[0;34m>\u001b[0m \u001b[0mdf\u001b[0m\u001b[0;34m.\u001b[0m\u001b[0mcolumns\u001b[0m\u001b[0;34m.\u001b[0m\u001b[0misnull\u001b[0m\u001b[0;34m(\u001b[0m\u001b[0;34m)\u001b[0m \u001b[0;34m==\u001b[0m \u001b[0;32mTrue\u001b[0m\u001b[0;34m:\u001b[0m\u001b[0;34m\u001b[0m\u001b[0;34m\u001b[0m\u001b[0m\n\u001b[0m\u001b[1;32m      3\u001b[0m         \u001b[0mdf\u001b[0m\u001b[0;34m.\u001b[0m\u001b[0mxs\u001b[0m\u001b[0;34m(\u001b[0m\u001b[0mrow\u001b[0m\u001b[0;34m)\u001b[0m\u001b[0;34m[\u001b[0m\u001b[0;34m'District'\u001b[0m\u001b[0;34m]\u001b[0m \u001b[0;34m=\u001b[0m \u001b[0mdistr\u001b[0m\u001b[0;34m\u001b[0m\u001b[0;34m\u001b[0m\u001b[0m\n",
      "\u001b[0;31mTypeError\u001b[0m: 'Index' object is not callable"
     ]
    }
   ],
   "source": [
    "for distr in districts:\n",
    "    for row in df.index(distr) > df.columns.isnull() == True:\n",
    "        df.xs(row)['District'] = distr"
   ]
  },
  {
   "cell_type": "code",
   "execution_count": 14,
   "metadata": {},
   "outputs": [
    {
     "data": {
      "text/plain": [
       "2015           924\n",
       "Unnamed: 2     924\n",
       "2016           924\n",
       "Unnamed: 4     924\n",
       "2017           924\n",
       "Unnamed: 6     924\n",
       "2018           924\n",
       "Unnamed: 8     924\n",
       "2019           924\n",
       "Unnamed: 10    924\n",
       "2020           924\n",
       "Unnamed: 12    924\n",
       "2021           924\n",
       "Unnamed: 14    924\n",
       "2022           924\n",
       "Unnamed: 16    924\n",
       "2023           924\n",
       "Unnamed: 18    924\n",
       "2024           924\n",
       "Unnamed: 20    924\n",
       "2025           924\n",
       "Unnamed: 22    924\n",
       "dtype: int64"
      ]
     },
     "execution_count": 14,
     "metadata": {},
     "output_type": "execute_result"
    }
   ],
   "source": [
    "null_columns=df.columns[df.isnull().any()]\n",
    "df[null_columns].isnull().sum()"
   ]
  },
  {
   "cell_type": "code",
   "execution_count": null,
   "metadata": {},
   "outputs": [],
   "source": []
  }
 ],
 "metadata": {
  "kernelspec": {
   "display_name": "Python 3",
   "language": "python",
   "name": "python3"
  },
  "language_info": {
   "codemirror_mode": {
    "name": "ipython",
    "version": 3
   },
   "file_extension": ".py",
   "mimetype": "text/x-python",
   "name": "python",
   "nbconvert_exporter": "python",
   "pygments_lexer": "ipython3",
   "version": "3.7.6"
  }
 },
 "nbformat": 4,
 "nbformat_minor": 4
}
